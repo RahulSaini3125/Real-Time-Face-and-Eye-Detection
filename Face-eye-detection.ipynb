{
 "cells": [
  {
   "cell_type": "markdown",
   "metadata": {},
   "source": [
    "Face and Eye detection Using Opencv\n",
    "OpenCV\n",
    "Open source computer vision library is an open source computer vision and machine learning library. It was built with a vision to provide basic infrastructure to the computer vision application.\n",
    "\n",
    "Haar Cascade Algorithm\n",
    "It is a machine learning algorithm used to identify objects in image or video based on the concepts of features proposed by Paul Viola and Michael Jones in 2001."
   ]
  },
  {
   "cell_type": "markdown",
   "metadata": {},
   "source": [
    "Install opencv in system. So, that we can import modules of Opencv to detect faces and eyes in live video or images."
   ]
  },
  {
   "cell_type": "code",
   "execution_count": null,
   "metadata": {},
   "outputs": [],
   "source": [
    "# pip install opencv-python"
   ]
  },
  {
   "cell_type": "markdown",
   "metadata": {},
   "source": [
    "Step 1: Starting the code import the modules of OpenCV "
   ]
  },
  {
   "cell_type": "code",
   "execution_count": null,
   "metadata": {},
   "outputs": [],
   "source": [
    "import cv2"
   ]
  },
  {
   "cell_type": "markdown",
   "metadata": {},
   "source": [
    "Step 2: The cascade classifiers\n",
    "The cascade classifiers are the trained.xml files for detecting the face and eyes."
   ]
  },
  {
   "cell_type": "code",
   "execution_count": null,
   "metadata": {},
   "outputs": [],
   "source": [
    "\n",
    "# Load the cascade classifier for face detection\n",
    "face_cascade = cv2.CascadeClassifier(cv2.data.haarcascades + 'haarcascade_frontalface_alt2.xml')\n",
    "eye_cascade = cv2.CascadeClassifier(cv2.data.haarcascades+'haarcascade_eye.xml')\n",
    "body_cascade = cv2.CascadeClassifier(cv2.data.haarcascades + 'haarcascade_fullbody.xml')"
   ]
  },
  {
   "cell_type": "markdown",
   "metadata": {},
   "source": [
    "Step 3: Open Webcam for detecting faces and eyes."
   ]
  },
  {
   "cell_type": "code",
   "execution_count": null,
   "metadata": {},
   "outputs": [],
   "source": [
    "# Open the webcam\n",
    "cap = cv2.VideoCapture(0)"
   ]
  },
  {
   "cell_type": "markdown",
   "metadata": {},
   "source": [
    "Step 4: Run while loop and convert the images from one color space to another \n",
    "\n",
    "The imshow() function\n",
    "The imshow function is used for show image with detected face and eye highlight with rectangle over faces and eyes\n",
    "\n",
    "The waitKey() function\n",
    "It will wait generate delay for the specified milliseconds."
   ]
  },
  {
   "cell_type": "code",
   "execution_count": null,
   "metadata": {},
   "outputs": [],
   "source": [
    "while True:\n",
    "    # Read a frame from the webcam\n",
    "    ret, frame = cap.read()\n",
    "\n",
    "    if not ret:\n",
    "        break\n",
    "\n",
    "    # Convert the frame to grayscale for face detection\n",
    "    gray = cv2.cvtColor(frame, cv2.COLOR_BGR2GRAY)\n",
    "    roi_gray = cv2.cvtColor(frame, cv2.COLOR_BGR2GRAY)\n",
    "\n",
    "\n",
    "    # Detect faces in the frame\n",
    "    faces = face_cascade.detectMultiScale(gray, scaleFactor=1.3, minNeighbors=5, minSize= (30,30))\n",
    "    eyes = eye_cascade.detectMultiScale(roi_gray, scaleFactor=1.3, minNeighbors=10, minSize=(2,3))\n",
    "\n",
    "    # Draw rectangles around the detected faces\n",
    "    for (x, y, w, h) in faces:\n",
    "        cv2.rectangle(frame, (x, y), (x+w, y+h), (255, 255, 0), 2)\n",
    "        cv2.putText(frame, 'Face', (x,y-10), cv2.FONT_HERSHEY_DUPLEX, 0.5, (255, 255, 0),1)\n",
    "    for (x, y, w, h) in eyes:\n",
    "        cv2.rectangle(frame, (x+10, y+12), (x+w, y+h), (0, 255, 0), 1)\n",
    "        cv2.putText(frame, 'Eye', (x,y-10), cv2.FONT_HERSHEY_DUPLEX, 0.8, (0, 255, 0),1)\n",
    "\n",
    "    # Display the frame with detected faces\n",
    "    cv2.imshow('Real-time Face And Eye Detection', frame)\n",
    "\n",
    "    \n",
    "    if cv2.waitKey(1) & 0xFF == ord(' '):\n",
    "        break"
   ]
  },
  {
   "cell_type": "markdown",
   "metadata": {},
   "source": [
    "Step 5: The cap.release()\n",
    "This function will release webcamera. \n",
    "\n",
    "The destroyAllWindows() function\n",
    "This function will destroy all the previously created windows."
   ]
  },
  {
   "cell_type": "code",
   "execution_count": null,
   "metadata": {},
   "outputs": [],
   "source": [
    "# Release the webcam and close the window\n",
    "cap.release()\n",
    "cv2.destroyAllWindows() "
   ]
  }
 ],
 "metadata": {
  "kernelspec": {
   "display_name": "Python 3",
   "language": "python",
   "name": "python3"
  },
  "language_info": {
   "codemirror_mode": {
    "name": "ipython",
    "version": 3
   },
   "file_extension": ".py",
   "mimetype": "text/x-python",
   "name": "python",
   "nbconvert_exporter": "python",
   "pygments_lexer": "ipython3",
   "version": "3.11.5"
  },
  "orig_nbformat": 4
 },
 "nbformat": 4,
 "nbformat_minor": 2
}
